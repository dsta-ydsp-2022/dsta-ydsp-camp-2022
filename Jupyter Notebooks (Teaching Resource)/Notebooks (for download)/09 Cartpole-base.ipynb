{
 "cells": [
  {
   "cell_type": "code",
   "execution_count": 1,
   "metadata": {},
   "outputs": [
    {
     "name": "stdout",
     "output_type": "stream",
     "text": [
      "27\n",
      "21\n",
      "27\n",
      "12\n",
      "55\n",
      "39\n",
      "22\n",
      "22\n",
      "23\n",
      "10\n",
      "21\n",
      "11\n",
      "24\n",
      "12\n",
      "16\n",
      "17\n",
      "16\n",
      "13\n",
      "17\n",
      "16\n",
      "16\n",
      "12\n",
      "21\n",
      "14\n",
      "20\n",
      "11\n",
      "34\n",
      "15\n",
      "15\n",
      "16\n",
      "28\n",
      "21\n",
      "12\n",
      "35\n",
      "32\n",
      "26\n",
      "29\n",
      "17\n",
      "22\n",
      "12\n",
      "14\n",
      "20\n",
      "19\n",
      "17\n",
      "32\n",
      "13\n",
      "43\n"
     ]
    }
   ],
   "source": [
    "import gymnasium as gym\n",
    "env = gym.make(\"CartPole-v1\", render_mode=\"human\")\n",
    "\n",
    "observation, info = env.reset()\n",
    "steps = 0\n",
    "for _ in range(1000):\n",
    "    action = env.action_space.sample() # take a random action\n",
    "    observation, reward, terminated, truncated, info = env.step(action)\n",
    "    steps += 1\n",
    "\n",
    "    if terminated or truncated:\n",
    "        print(steps)\n",
    "        steps = 0\n",
    "        observation, info = env.reset()\n",
    "env.close()"
   ]
  }
 ],
 "metadata": {
  "kernelspec": {
   "display_name": "Python 3.8.10 64-bit",
   "language": "python",
   "name": "python3"
  },
  "language_info": {
   "codemirror_mode": {
    "name": "ipython",
    "version": 3
   },
   "file_extension": ".py",
   "mimetype": "text/x-python",
   "name": "python",
   "nbconvert_exporter": "python",
   "pygments_lexer": "ipython3",
   "version": "3.8.10"
  },
  "orig_nbformat": 4,
  "vscode": {
   "interpreter": {
    "hash": "570feb405e2e27c949193ac68f46852414290d515b0ba6e5d90d076ed2284471"
   }
  }
 },
 "nbformat": 4,
 "nbformat_minor": 2
}
